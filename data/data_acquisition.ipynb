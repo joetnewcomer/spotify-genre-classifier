{
 "cells": [
  {
   "cell_type": "code",
   "execution_count": 1,
   "id": "fe0daccc-d625-4225-9873-11d69569de1b",
   "metadata": {},
   "outputs": [],
   "source": [
    "# Imports\n",
    "import spotipy\n",
    "from spotipy.oauth2 import SpotifyClientCredentials\n",
    "import pandas as pd"
   ]
  },
  {
   "cell_type": "code",
   "execution_count": 2,
   "id": "6a3d683a-d1a4-4593-aa78-de49fd43ec51",
   "metadata": {},
   "outputs": [],
   "source": [
    "# Authenticate spotipy\n",
    "with open(\"spotify_credentials.txt\") as f:\n",
    "    client_id = f.readline()[:-1]\n",
    "    client_secret = f.readline()\n",
    "\n",
    "client_credentials_manager = SpotifyClientCredentials(client_id=client_id, client_secret=client_secret)\n",
    "sp = spotipy.Spotify(client_credentials_manager=client_credentials_manager)"
   ]
  },
  {
   "cell_type": "code",
   "execution_count": 3,
   "id": "40bf1815-eefe-46a2-a5c2-59340fe0d6d7",
   "metadata": {},
   "outputs": [],
   "source": [
    "def get_genre_by_search(client, genre, limit=1000, pop_thresh=0):\n",
    "    '''\n",
    "    Retrieves tracks and their audio features that fall under a particular genre by a direct search.\n",
    "\n",
    "    Parameters:\n",
    "    client (spotipy.client.Spotify object): Client to perform the search with. \n",
    "    genre (str): Genre of songs to obtain.\n",
    "    limit (int): Max number of songs to retrieve. Defaults to 1000.\n",
    "    pop_thresh (float): Minimum popularity a song must have to be included. Defaults to 0.\n",
    "    '''\n",
    "    # Get initial query. See https://developer.spotify.com/documentation/web-api/reference/search/ for search documentation.\n",
    "    results = client.search(q=f'genre:{genre}', type='track', limit=50) # Spotify API maxes out at 50\n",
    "    tracks = results['tracks']['items']\n",
    "    filtered_tracks = [track for track in tracks if track['popularity'] >= pop_thresh]\n",
    "\n",
    "    # Get the rest of the songs.\n",
    "    offset = 50\n",
    "    while len(filtered_tracks) < limit and offset < 1000: # Search returns a maximum of 1000 results\n",
    "        results = client.search(q=f'genre:{genre}', offset=offset, type='track', limit=50)\n",
    "        tracks = results['tracks']['items']\n",
    "        new_filtered_tracks = [track for track in tracks if track['popularity'] >= pop_thresh]\n",
    "        filtered_tracks.extend(new_filtered_tracks)\n",
    "        offset += 50\n",
    "\n",
    "    # Get track data to use for the audio features query\n",
    "    track_data = []\n",
    "    for track in filtered_tracks:\n",
    "        track_info = {\n",
    "            'name': track['name'],\n",
    "            'artist': track['artists'][0]['name'],\n",
    "            'album': track['album']['name'],\n",
    "            'id': track['id'],\n",
    "            'popularity': track['popularity'] \n",
    "        }\n",
    "        track_data.append(track_info)\n",
    "    track_df = pd.DataFrame(track_data)\n",
    "\n",
    "    # Retrieve audio features\n",
    "    ids = track_df['id'].tolist()\n",
    "    features = []\n",
    "    for i in range(0,len(ids), 100):\n",
    "        audio_features = client.audio_features(ids[i:i+100])\n",
    "        features.extend(audio_features)\n",
    "    features_df = pd.DataFrame(features)\n",
    "\n",
    "    # Combine dataframes\n",
    "    combined_df = pd.concat([track_df, features_df], axis=1)\n",
    "    combined_df['genre'] = genre\n",
    "    return combined_df"
   ]
  },
  {
   "cell_type": "code",
   "execution_count": 4,
   "id": "2c3d2307-0ec8-41d4-b244-94bfbd71b0fe",
   "metadata": {},
   "outputs": [],
   "source": [
    "# Get 5 sufficiently different genres\n",
    "country_df = get_genre_by_search(sp, 'country', limit=1000)\n",
    "hiphop_df = get_genre_by_search(sp, 'hip hop', limit=1000)\n",
    "heavy_metal_df = get_genre_by_search(sp, 'heavy metal', limit=1000)\n",
    "classical_df = get_genre_by_search(sp, 'classical', limit=1000)\n",
    "techno_df = get_genre_by_search(sp, 'techno', limit=1000)"
   ]
  },
  {
   "cell_type": "code",
   "execution_count": 6,
   "id": "6a923da0-7f29-4178-ae2c-59c02008a2ea",
   "metadata": {},
   "outputs": [],
   "source": [
    "# Save to data\n",
    "final_data = pd.concat([country_df, hiphop_df, heavy_metal_df, classical_df, techno_df]).reset_index(drop=True)\n",
    "final_data.to_csv('genre_dataset.csv', index=False)"
   ]
  }
 ],
 "metadata": {
  "kernelspec": {
   "display_name": "Python 3 (ipykernel)",
   "language": "python",
   "name": "python3"
  },
  "language_info": {
   "codemirror_mode": {
    "name": "ipython",
    "version": 3
   },
   "file_extension": ".py",
   "mimetype": "text/x-python",
   "name": "python",
   "nbconvert_exporter": "python",
   "pygments_lexer": "ipython3",
   "version": "3.11.9"
  }
 },
 "nbformat": 4,
 "nbformat_minor": 5
}
